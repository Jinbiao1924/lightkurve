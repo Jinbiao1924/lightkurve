{
 "cells": [
  {
   "cell_type": "markdown",
   "metadata": {},
   "source": [
    "# How to perform aperture photometry with custom apertures?"
   ]
  },
  {
   "cell_type": "markdown",
   "metadata": {},
   "source": [
    "We have discussed in [previous tutorials](http://lightkurve.keplerscience.org/tutorials/1.03-what-are-lightcurves.html) how Simple Aperture Photometry works. We choose a set of pixels in the image and sum those to produce a single flux value. We do this for every image as a function of time to produce a light curve.\n",
    "\n",
    "The [Kepler Data Pipeline](https://github.com/nasa/kepler-pipeline) produces an aperture, which is used by default by lightkurve. However, there are some cases where you might want to produce your own aperture. The field may be crowded, or you may wish to change the aperture size to change the relative contribution of the background. We can do this simply with lightkurve.\n",
    "\n",
    "First, let's load a target pixel file. Let's choose [KIC 6679295](https://exoplanetarchive.ipac.caltech.edu/cgi-bin/DisplayOverview/nph-DisplayOverview?objname=KOI-2862.01&type=KEPLER_CANDIDATE). This is a Kepler planet canidate. We'll use the `from_archive` function to download every target pixel file available for each quarter of this data set. "
   ]
  },
  {
   "cell_type": "code",
   "execution_count": null,
   "metadata": {},
   "outputs": [],
   "source": [
    "%%capture\n",
    "from lightkurve import search_targetpixelfile\n",
    "import matplotlib.pyplot as plt\n",
    "%matplotlib inline\n",
    "kic = '6679295'\n",
    "\n",
    "tpfs = search_targetpixelfile(kic).download_all()"
   ]
  },
  {
   "cell_type": "markdown",
   "metadata": {},
   "source": [
    "We've now created a list of `KeplerTargetPixelFiles`, where each item is a different quarter. We're going to be able to combine these just like in the [stitching tutorial](). "
   ]
  },
  {
   "cell_type": "markdown",
   "metadata": {},
   "source": [
    "Let's take a look at just one of those target pixel files."
   ]
  },
  {
   "cell_type": "code",
   "execution_count": null,
   "metadata": {},
   "outputs": [],
   "source": [
    "#Build the light curve\n",
    "pipeline_lc = tpfs[0].to_lightcurve().flatten()\n",
    "for tpf in tpfs:\n",
    "    pipeline_lc = pipeline_lc.append(tpf.to_lightcurve().flatten())\n",
    "    \n",
    "#Clean the light curve\n",
    "pipeline_lc = pipeline_lc.remove_nans().remove_outliers()"
   ]
  },
  {
   "cell_type": "markdown",
   "metadata": {},
   "source": [
    "Above we have created the light curve from the target pixel files, stitched them all together in the same way as in the [stitching tutorial] using lightkurves `append` function. To recap the steps we:\n",
    "\n",
    "* Convert to a `KeplerLightCurve` object with `to_lightcurve()`\n",
    "* Remove NaNs with `remove_nans()`\n",
    "* Remove long term trends with `flatten()`\n",
    "* Remove outliers with simple sigma clipping using `remove_outliers()`\n",
    "\n",
    "The period for this planet candidate is 24.57537 days. Let's plot it up and take a look."
   ]
  },
  {
   "cell_type": "code",
   "execution_count": null,
   "metadata": {},
   "outputs": [],
   "source": [
    "pipeline_lc.fold(period=24.57537, transit_midpoint=-0.133).bin().errorbar()\n",
    "plt.xlim(-0.015,0.015)\n",
    "plt.ylim(0.998,1.0015);"
   ]
  },
  {
   "cell_type": "markdown",
   "metadata": {},
   "source": [
    "Looks like a great candidate. However, we might just want to check on the pixels. Let's plot one of the target pixel files."
   ]
  },
  {
   "cell_type": "code",
   "execution_count": null,
   "metadata": {},
   "outputs": [],
   "source": [
    "tpf.plot(frame=100, aperture_mask=tpf.pipeline_mask, mask_color='red');"
   ]
  },
  {
   "cell_type": "markdown",
   "metadata": {},
   "source": [
    "The Kepler Pipeline aperture is in red. It looks like there is a nearby contaminate star! We might want to check that the signal is not really coming from the bright, nearby contaminant, rather than our target star. Let's use the top right corner four pixels as our new mask."
   ]
  },
  {
   "cell_type": "code",
   "execution_count": null,
   "metadata": {},
   "outputs": [],
   "source": [
    "import numpy as np\n",
    "aper = np.zeros(tpf.shape[1:])\n",
    "aper[-2:, 0:2] = 1\n",
    "tpf.plot(aperture_mask=aper, mask_color='red');"
   ]
  },
  {
   "cell_type": "markdown",
   "metadata": {},
   "source": [
    "The new mask covers the bright star. Now we can iterate through the target pixel files and build the light curve in the same way as before, but this time "
   ]
  },
  {
   "cell_type": "code",
   "execution_count": null,
   "metadata": {},
   "outputs": [],
   "source": [
    "#Build the NEW aperture, and the light curve\n",
    "aper = np.zeros(tpfs[0].shape[1:])\n",
    "aper[-2:, 0:2] = 1\n",
    "user_lc = tpfs[0].to_lightcurve(aperture_mask=aper.astype(bool)).flatten()\n",
    "for tpf in tpfs:\n",
    "    aper = np.zeros(tpf.shape[1:])\n",
    "    aper[-2:, 0:2]=1\n",
    "    user_lc = user_lc.append(tpf.to_lightcurve(aperture_mask=aper.astype(bool)).flatten())\n",
    "\n",
    "#Clean the light curve\n",
    "user_lc = user_lc.remove_nans().remove_outliers()"
   ]
  },
  {
   "cell_type": "markdown",
   "metadata": {},
   "source": [
    "Now we have our new light curve we can plot it up again and find out if there is still a planet signal."
   ]
  },
  {
   "cell_type": "code",
   "execution_count": null,
   "metadata": {},
   "outputs": [],
   "source": [
    "user_lc.fold(period=24.57537, transit_midpoint=-0.133).bin().errorbar();\n",
    "plt.xlim(-0.015,0.015)\n",
    "plt.ylim(0.998,1.0015)"
   ]
  },
  {
   "cell_type": "markdown",
   "metadata": {},
   "source": [
    "Looks like the planet signal is only in the target star and doesn't belong to the contaminant. This is just one of many checks you might want to perform to validate your planet candidates!"
   ]
  }
 ],
 "metadata": {
  "kernelspec": {
   "display_name": "Python 3",
   "language": "python",
   "name": "python3"
  },
  "language_info": {
   "codemirror_mode": {
    "name": "ipython",
    "version": 3
   },
   "file_extension": ".py",
   "mimetype": "text/x-python",
   "name": "python",
   "nbconvert_exporter": "python",
   "pygments_lexer": "ipython3",
   "version": "3.6.8"
  }
 },
 "nbformat": 4,
 "nbformat_minor": 2
}
